{
 "cells": [
  {
   "cell_type": "code",
   "execution_count": 1,
   "metadata": {},
   "outputs": [],
   "source": [
    "# Import necessary libraries and source code\n",
    "import os\n",
    "import sys\n",
    "import torch\n",
    "sys.path.append('./src')\n",
    "\n",
    "from data_preprocessing import DataPreprocessor\n",
    "from model import get_model\n",
    "from train import train_model, BrainTumorDataset"
   ]
  },
  {
   "cell_type": "code",
   "execution_count": 4,
   "metadata": {},
   "outputs": [
    {
     "name": "stderr",
     "output_type": "stream",
     "text": [
      "Processing healthy images: 100%|██████████| 2300/2300 [00:02<00:00, 978.87it/s] \n",
      "Processing tumor images: 100%|██████████| 2318/2318 [00:03<00:00, 753.07it/s]\n",
      "Saving train set: 100%|██████████| 2711/2711 [00:00<00:00, 3147.36it/s]\n",
      "Saving val set: 100%|██████████| 581/581 [00:00<00:00, 2556.50it/s]\n",
      "Saving test set: 100%|██████████| 581/581 [00:00<00:00, 2867.79it/s]"
     ]
    },
    {
     "name": "stdout",
     "output_type": "stream",
     "text": [
      "\n",
      "train set:\n",
      "Healthy: 1190, Tumor: 1521\n",
      "\n",
      "val set:\n",
      "Healthy: 264, Tumor: 317\n",
      "\n",
      "test set:\n",
      "Healthy: 262, Tumor: 319\n"
     ]
    },
    {
     "name": "stderr",
     "output_type": "stream",
     "text": [
      "\n"
     ]
    }
   ],
   "source": [
    "# Data Preprocessing\n",
    "\n",
    "# Set up paths\n",
    "current_dir = os.getcwd()\n",
    "data_dir = os.path.join(current_dir, \"data\")\n",
    "processed_dir = os.path.join(current_dir, \"data\", \"processed_data\")\n",
    "\n",
    "# Initialize and run preprocessing\n",
    "preprocessor = DataPreprocessor(data_dir, processed_dir)\n",
    "splits = preprocessor.process_images()\n",
    "\n",
    "# Print dataset statistics\n",
    "for split_name, split_data in splits.items():\n",
    "    print(f\"\\n{split_name} set:\")\n",
    "    healthy_count = sum(1 for x in split_data if x['label'] == 'healthy')\n",
    "    tumor_count = sum(1 for x in split_data if x['label'] == 'tumor')\n",
    "    print(f\"Healthy: {healthy_count}, Tumor: {tumor_count}\")"
   ]
  },
  {
   "cell_type": "code",
   "execution_count": 2,
   "metadata": {},
   "outputs": [
    {
     "name": "stdout",
     "output_type": "stream",
     "text": [
      "PyTorch version: 2.6.0\n",
      "\n",
      "CUDA available: False\n",
      "\n",
      "MPS (Metal Performance Shaders) available: True\n",
      "MPS device name: Apple Silicon/AMD GPU\n"
     ]
    }
   ],
   "source": [
    "# Check computing resources\n",
    "\n",
    "# Check GPU/MPS Availability (from check_gpu.py)\n",
    "print(\"PyTorch version:\", torch.__version__)\n",
    "print(\"\\nCUDA available:\", torch.cuda.is_available())\n",
    "if torch.cuda.is_available():\n",
    "    print(\"CUDA device count:\", torch.cuda.device_count())\n",
    "    print(\"Current CUDA device:\", torch.cuda.current_device())\n",
    "    print(\"CUDA device name:\", torch.cuda.get_device_name(0))\n",
    "\n",
    "print(\"\\nMPS (Metal Performance Shaders) available:\", torch.backends.mps.is_available())\n",
    "if torch.backends.mps.is_available():\n",
    "    print(\"MPS device name: Apple Silicon/AMD GPU\")\n"
   ]
  },
  {
   "cell_type": "code",
   "execution_count": 3,
   "metadata": {},
   "outputs": [],
   "source": [
    "# Set up paths for training\n",
    "current_dir = os.getcwd()\n",
    "processed_data_dir = os.path.join(current_dir, \"data\", \"processed_data\")\n",
    "model_save_dir = os.path.join(current_dir, \"data\", \"models\", \"checkpoints\")\n",
    "\n",
    "# Create model save directory if it doesn't exist\n",
    "os.makedirs(model_save_dir, exist_ok=True)\n"
   ]
  },
  {
   "cell_type": "code",
   "execution_count": 4,
   "metadata": {},
   "outputs": [
    {
     "name": "stdout",
     "output_type": "stream",
     "text": [
      "\n",
      "Training Configuration:\n",
      "- Data directory: /Users/rzhang/Desktop/U of C/645 Final Project V2/data/processed_data\n",
      "- Model save directory: /Users/rzhang/Desktop/U of C/645 Final Project V2/data/models/checkpoints\n",
      "- Batch size: 8\n",
      "- Epochs: 10\n",
      "\n",
      "\n",
      "Training Setup:\n",
      "- Using device: mps\n",
      "\n",
      "Model Initialization:\n",
      "- Using device: mps\n",
      "- Model created\n",
      "\n",
      "Checking parameter devices:\n",
      "- enc1.0.weight: mps:0, torch.float32\n",
      "- enc1.0.bias: mps:0, torch.float32\n",
      "- enc1.1.weight: mps:0, torch.float32\n",
      "- enc1.1.bias: mps:0, torch.float32\n",
      "- enc1.3.weight: mps:0, torch.float32\n",
      "- enc1.3.bias: mps:0, torch.float32\n",
      "- enc1.4.weight: mps:0, torch.float32\n",
      "- enc1.4.bias: mps:0, torch.float32\n",
      "- enc2.0.weight: mps:0, torch.float32\n",
      "- enc2.0.bias: mps:0, torch.float32\n",
      "- enc2.1.weight: mps:0, torch.float32\n",
      "- enc2.1.bias: mps:0, torch.float32\n",
      "- enc2.3.weight: mps:0, torch.float32\n",
      "- enc2.3.bias: mps:0, torch.float32\n",
      "- enc2.4.weight: mps:0, torch.float32\n",
      "- enc2.4.bias: mps:0, torch.float32\n",
      "- enc3.0.weight: mps:0, torch.float32\n",
      "- enc3.0.bias: mps:0, torch.float32\n",
      "- enc3.1.weight: mps:0, torch.float32\n",
      "- enc3.1.bias: mps:0, torch.float32\n",
      "- enc3.3.weight: mps:0, torch.float32\n",
      "- enc3.3.bias: mps:0, torch.float32\n",
      "- enc3.4.weight: mps:0, torch.float32\n",
      "- enc3.4.bias: mps:0, torch.float32\n",
      "- enc4.0.weight: mps:0, torch.float32\n",
      "- enc4.0.bias: mps:0, torch.float32\n",
      "- enc4.1.weight: mps:0, torch.float32\n",
      "- enc4.1.bias: mps:0, torch.float32\n",
      "- enc4.3.weight: mps:0, torch.float32\n",
      "- enc4.3.bias: mps:0, torch.float32\n",
      "- enc4.4.weight: mps:0, torch.float32\n",
      "- enc4.4.bias: mps:0, torch.float32\n",
      "- bridge.0.weight: mps:0, torch.float32\n",
      "- bridge.0.bias: mps:0, torch.float32\n",
      "- bridge.1.weight: mps:0, torch.float32\n",
      "- bridge.1.bias: mps:0, torch.float32\n",
      "- bridge.3.weight: mps:0, torch.float32\n",
      "- bridge.3.bias: mps:0, torch.float32\n",
      "- bridge.4.weight: mps:0, torch.float32\n",
      "- bridge.4.bias: mps:0, torch.float32\n",
      "- up4.0.weight: mps:0, torch.float32\n",
      "- up4.0.bias: mps:0, torch.float32\n",
      "- up4.1.0.weight: mps:0, torch.float32\n",
      "- up4.1.0.bias: mps:0, torch.float32\n",
      "- up4.1.1.weight: mps:0, torch.float32\n",
      "- up4.1.1.bias: mps:0, torch.float32\n",
      "- up4.1.3.weight: mps:0, torch.float32\n",
      "- up4.1.3.bias: mps:0, torch.float32\n",
      "- up4.1.4.weight: mps:0, torch.float32\n",
      "- up4.1.4.bias: mps:0, torch.float32\n",
      "- up3.0.weight: mps:0, torch.float32\n",
      "- up3.0.bias: mps:0, torch.float32\n",
      "- up3.1.0.weight: mps:0, torch.float32\n",
      "- up3.1.0.bias: mps:0, torch.float32\n",
      "- up3.1.1.weight: mps:0, torch.float32\n",
      "- up3.1.1.bias: mps:0, torch.float32\n",
      "- up3.1.3.weight: mps:0, torch.float32\n",
      "- up3.1.3.bias: mps:0, torch.float32\n",
      "- up3.1.4.weight: mps:0, torch.float32\n",
      "- up3.1.4.bias: mps:0, torch.float32\n",
      "- up2.0.weight: mps:0, torch.float32\n",
      "- up2.0.bias: mps:0, torch.float32\n",
      "- up2.1.0.weight: mps:0, torch.float32\n",
      "- up2.1.0.bias: mps:0, torch.float32\n",
      "- up2.1.1.weight: mps:0, torch.float32\n",
      "- up2.1.1.bias: mps:0, torch.float32\n",
      "- up2.1.3.weight: mps:0, torch.float32\n",
      "- up2.1.3.bias: mps:0, torch.float32\n",
      "- up2.1.4.weight: mps:0, torch.float32\n",
      "- up2.1.4.bias: mps:0, torch.float32\n",
      "- up1.0.weight: mps:0, torch.float32\n",
      "- up1.0.bias: mps:0, torch.float32\n",
      "- up1.1.0.weight: mps:0, torch.float32\n",
      "- up1.1.0.bias: mps:0, torch.float32\n",
      "- up1.1.1.weight: mps:0, torch.float32\n",
      "- up1.1.1.bias: mps:0, torch.float32\n",
      "- up1.1.3.weight: mps:0, torch.float32\n",
      "- up1.1.3.bias: mps:0, torch.float32\n",
      "- up1.1.4.weight: mps:0, torch.float32\n",
      "- up1.1.4.bias: mps:0, torch.float32\n",
      "- seg_output.weight: mps:0, torch.float32\n",
      "- seg_output.bias: mps:0, torch.float32\n",
      "- fc1.weight: mps:0, torch.float32\n",
      "- fc1.bias: mps:0, torch.float32\n",
      "- fc2.weight: mps:0, torch.float32\n",
      "- fc2.bias: mps:0, torch.float32\n",
      "\n",
      "Checking buffer devices:\n",
      "- enc1.1.running_mean: mps:0, torch.float32\n",
      "- enc1.1.running_var: mps:0, torch.float32\n",
      "- enc1.1.num_batches_tracked: mps:0, torch.int64\n",
      "- enc1.4.running_mean: mps:0, torch.float32\n",
      "- enc1.4.running_var: mps:0, torch.float32\n",
      "- enc1.4.num_batches_tracked: mps:0, torch.int64\n",
      "- enc2.1.running_mean: mps:0, torch.float32\n",
      "- enc2.1.running_var: mps:0, torch.float32\n",
      "- enc2.1.num_batches_tracked: mps:0, torch.int64\n",
      "- enc2.4.running_mean: mps:0, torch.float32\n",
      "- enc2.4.running_var: mps:0, torch.float32\n",
      "- enc2.4.num_batches_tracked: mps:0, torch.int64\n",
      "- enc3.1.running_mean: mps:0, torch.float32\n",
      "- enc3.1.running_var: mps:0, torch.float32\n",
      "- enc3.1.num_batches_tracked: mps:0, torch.int64\n",
      "- enc3.4.running_mean: mps:0, torch.float32\n",
      "- enc3.4.running_var: mps:0, torch.float32\n",
      "- enc3.4.num_batches_tracked: mps:0, torch.int64\n",
      "- enc4.1.running_mean: mps:0, torch.float32\n",
      "- enc4.1.running_var: mps:0, torch.float32\n",
      "- enc4.1.num_batches_tracked: mps:0, torch.int64\n",
      "- enc4.4.running_mean: mps:0, torch.float32\n",
      "- enc4.4.running_var: mps:0, torch.float32\n",
      "- enc4.4.num_batches_tracked: mps:0, torch.int64\n",
      "- bridge.1.running_mean: mps:0, torch.float32\n",
      "- bridge.1.running_var: mps:0, torch.float32\n",
      "- bridge.1.num_batches_tracked: mps:0, torch.int64\n",
      "- bridge.4.running_mean: mps:0, torch.float32\n",
      "- bridge.4.running_var: mps:0, torch.float32\n",
      "- bridge.4.num_batches_tracked: mps:0, torch.int64\n",
      "- up4.1.1.running_mean: mps:0, torch.float32\n",
      "- up4.1.1.running_var: mps:0, torch.float32\n",
      "- up4.1.1.num_batches_tracked: mps:0, torch.int64\n",
      "- up4.1.4.running_mean: mps:0, torch.float32\n",
      "- up4.1.4.running_var: mps:0, torch.float32\n",
      "- up4.1.4.num_batches_tracked: mps:0, torch.int64\n",
      "- up3.1.1.running_mean: mps:0, torch.float32\n",
      "- up3.1.1.running_var: mps:0, torch.float32\n",
      "- up3.1.1.num_batches_tracked: mps:0, torch.int64\n",
      "- up3.1.4.running_mean: mps:0, torch.float32\n",
      "- up3.1.4.running_var: mps:0, torch.float32\n",
      "- up3.1.4.num_batches_tracked: mps:0, torch.int64\n",
      "- up2.1.1.running_mean: mps:0, torch.float32\n",
      "- up2.1.1.running_var: mps:0, torch.float32\n",
      "- up2.1.1.num_batches_tracked: mps:0, torch.int64\n",
      "- up2.1.4.running_mean: mps:0, torch.float32\n",
      "- up2.1.4.running_var: mps:0, torch.float32\n",
      "- up2.1.4.num_batches_tracked: mps:0, torch.int64\n",
      "- up1.1.1.running_mean: mps:0, torch.float32\n",
      "- up1.1.1.running_var: mps:0, torch.float32\n",
      "- up1.1.1.num_batches_tracked: mps:0, torch.int64\n",
      "- up1.1.4.running_mean: mps:0, torch.float32\n",
      "- up1.1.4.running_var: mps:0, torch.float32\n",
      "- up1.1.4.num_batches_tracked: mps:0, torch.int64\n",
      "\n",
      "Testing with dummy input:\n",
      "- Dummy input device: mps:0, torch.float32\n",
      "- Forward pass successful\n",
      "- Model initialized successfully\n",
      "- Directories created\n",
      "- Loss functions and optimizer created\n",
      "- Datasets created\n",
      "- Data loaders created\n",
      "\n",
      "Testing first batch:\n",
      "- Image batch device: cpu, shape: torch.Size([8, 3, 256, 256])\n",
      "- Image batch moved to device: mps:0\n"
     ]
    },
    {
     "name": "stderr",
     "output_type": "stream",
     "text": [
      "Epoch 1/10: 100%|██████████| 471/471 [11:14<00:00,  1.43s/it]\n"
     ]
    },
    {
     "name": "stdout",
     "output_type": "stream",
     "text": [
      "\n",
      "Epoch 1/10\n",
      "Train Loss: 0.7186\n",
      "Train Seg Loss: 0.6014\n",
      "Train Class Loss: 0.2343\n",
      "Train Seg Acc: 0.4364\n",
      "Train Class Acc: 0.9116\n",
      "Val Loss: 1.1422\n",
      "Val Seg Loss: 0.5892\n",
      "Val Class Loss: 1.1061\n",
      "Val Seg Acc: 0.4422\n",
      "Val Class Acc: 0.5691\n"
     ]
    },
    {
     "name": "stderr",
     "output_type": "stream",
     "text": [
      "Epoch 2/10: 100%|██████████| 471/471 [11:14<00:00,  1.43s/it]\n"
     ]
    },
    {
     "name": "stdout",
     "output_type": "stream",
     "text": [
      "\n",
      "Epoch 2/10\n",
      "Train Loss: 0.6556\n",
      "Train Seg Loss: 0.5742\n",
      "Train Class Loss: 0.1628\n",
      "Train Seg Acc: 0.4426\n",
      "Train Class Acc: 0.9455\n",
      "Val Loss: 0.6110\n",
      "Val Seg Loss: 0.5679\n",
      "Val Class Loss: 0.0863\n",
      "Val Seg Acc: 0.4422\n",
      "Val Class Acc: 0.9727\n"
     ]
    },
    {
     "name": "stderr",
     "output_type": "stream",
     "text": [
      "Epoch 3/10: 100%|██████████| 471/471 [11:14<00:00,  1.43s/it]\n"
     ]
    },
    {
     "name": "stdout",
     "output_type": "stream",
     "text": [
      "\n",
      "Epoch 3/10\n",
      "Train Loss: 0.6259\n",
      "Train Seg Loss: 0.5593\n",
      "Train Class Loss: 0.1332\n",
      "Train Seg Acc: 0.4426\n",
      "Train Class Acc: 0.9589\n",
      "Val Loss: 0.6227\n",
      "Val Seg Loss: 0.5606\n",
      "Val Class Loss: 0.1242\n",
      "Val Seg Acc: 0.4422\n",
      "Val Class Acc: 0.9608\n"
     ]
    },
    {
     "name": "stderr",
     "output_type": "stream",
     "text": [
      "Epoch 4/10: 100%|██████████| 471/471 [11:15<00:00,  1.43s/it]\n"
     ]
    },
    {
     "name": "stdout",
     "output_type": "stream",
     "text": [
      "\n",
      "Epoch 4/10\n",
      "Train Loss: 0.6054\n",
      "Train Seg Loss: 0.5513\n",
      "Train Class Loss: 0.1081\n",
      "Train Seg Acc: 0.4427\n",
      "Train Class Acc: 0.9652\n",
      "Val Loss: 0.5804\n",
      "Val Seg Loss: 0.5490\n",
      "Val Class Loss: 0.0627\n",
      "Val Seg Acc: 0.4422\n",
      "Val Class Acc: 0.9814\n"
     ]
    },
    {
     "name": "stderr",
     "output_type": "stream",
     "text": [
      "Epoch 5/10: 100%|██████████| 471/471 [11:18<00:00,  1.44s/it]\n"
     ]
    },
    {
     "name": "stdout",
     "output_type": "stream",
     "text": [
      "\n",
      "Epoch 5/10\n",
      "Train Loss: 0.5963\n",
      "Train Seg Loss: 0.5478\n",
      "Train Class Loss: 0.0970\n",
      "Train Seg Acc: 0.4428\n",
      "Train Class Acc: 0.9695\n",
      "Val Loss: 0.5997\n",
      "Val Seg Loss: 0.5533\n",
      "Val Class Loss: 0.0928\n",
      "Val Seg Acc: 0.4422\n",
      "Val Class Acc: 0.9801\n"
     ]
    },
    {
     "name": "stderr",
     "output_type": "stream",
     "text": [
      "Epoch 6/10: 100%|██████████| 471/471 [11:18<00:00,  1.44s/it]\n"
     ]
    },
    {
     "name": "stdout",
     "output_type": "stream",
     "text": [
      "\n",
      "Epoch 6/10\n",
      "Train Loss: 0.6004\n",
      "Train Seg Loss: 0.5413\n",
      "Train Class Loss: 0.1183\n",
      "Train Seg Acc: 0.4427\n",
      "Train Class Acc: 0.9687\n",
      "Val Loss: 0.5644\n",
      "Val Seg Loss: 0.5450\n",
      "Val Class Loss: 0.0388\n",
      "Val Seg Acc: 0.4422\n",
      "Val Class Acc: 0.9860\n"
     ]
    },
    {
     "name": "stderr",
     "output_type": "stream",
     "text": [
      "Epoch 7/10: 100%|██████████| 471/471 [11:19<00:00,  1.44s/it]\n"
     ]
    },
    {
     "name": "stdout",
     "output_type": "stream",
     "text": [
      "\n",
      "Epoch 7/10\n",
      "Train Loss: 0.5881\n",
      "Train Seg Loss: 0.5364\n",
      "Train Class Loss: 0.1036\n",
      "Train Seg Acc: 0.4426\n",
      "Train Class Acc: 0.9737\n",
      "Val Loss: 0.5446\n",
      "Val Seg Loss: 0.5260\n",
      "Val Class Loss: 0.0373\n",
      "Val Seg Acc: 0.4422\n",
      "Val Class Acc: 0.9854\n"
     ]
    },
    {
     "name": "stderr",
     "output_type": "stream",
     "text": [
      "Epoch 8/10: 100%|██████████| 471/471 [11:18<00:00,  1.44s/it]\n"
     ]
    },
    {
     "name": "stdout",
     "output_type": "stream",
     "text": [
      "\n",
      "Epoch 8/10\n",
      "Train Loss: 0.5664\n",
      "Train Seg Loss: 0.5257\n",
      "Train Class Loss: 0.0813\n",
      "Train Seg Acc: 0.4427\n",
      "Train Class Acc: 0.9708\n",
      "Val Loss: 0.5675\n",
      "Val Seg Loss: 0.5289\n",
      "Val Class Loss: 0.0774\n",
      "Val Seg Acc: 0.4421\n",
      "Val Class Acc: 0.9701\n"
     ]
    },
    {
     "name": "stderr",
     "output_type": "stream",
     "text": [
      "Epoch 9/10: 100%|██████████| 471/471 [11:18<00:00,  1.44s/it]\n"
     ]
    },
    {
     "name": "stdout",
     "output_type": "stream",
     "text": [
      "\n",
      "Epoch 9/10\n",
      "Train Loss: 0.5584\n",
      "Train Seg Loss: 0.5231\n",
      "Train Class Loss: 0.0706\n",
      "Train Seg Acc: 0.4428\n",
      "Train Class Acc: 0.9764\n",
      "Val Loss: 0.5475\n",
      "Val Seg Loss: 0.5231\n",
      "Val Class Loss: 0.0488\n",
      "Val Seg Acc: 0.4421\n",
      "Val Class Acc: 0.9794\n"
     ]
    },
    {
     "name": "stderr",
     "output_type": "stream",
     "text": [
      "Epoch 10/10: 100%|██████████| 471/471 [11:18<00:00,  1.44s/it]\n"
     ]
    },
    {
     "name": "stdout",
     "output_type": "stream",
     "text": [
      "\n",
      "Epoch 10/10\n",
      "Train Loss: 0.5468\n",
      "Train Seg Loss: 0.5171\n",
      "Train Class Loss: 0.0593\n",
      "Train Seg Acc: 0.4426\n",
      "Train Class Acc: 0.9766\n",
      "Val Loss: 0.5441\n",
      "Val Seg Loss: 0.5110\n",
      "Val Class Loss: 0.0662\n",
      "Val Seg Acc: 0.4420\n",
      "Val Class Acc: 0.9628\n"
     ]
    }
   ],
   "source": [
    "# Initialize and train the model\n",
    "\n",
    "batch_size = 8\n",
    "epochs = 10\n",
    "\n",
    "print(f\"\\nTraining Configuration:\")\n",
    "print(f\"- Data directory: {processed_data_dir}\")\n",
    "print(f\"- Model save directory: {model_save_dir}\")\n",
    "print(f\"- Batch size: {batch_size}\")\n",
    "print(f\"- Epochs: {epochs}\\n\")\n",
    "\n",
    "# Start training\n",
    "train_model(processed_data_dir, model_save_dir, batch_size=batch_size, epochs=epochs)"
   ]
  }
 ],
 "metadata": {
  "kernelspec": {
   "display_name": "brain_tumor_torch_Mac",
   "language": "python",
   "name": "python3"
  },
  "language_info": {
   "codemirror_mode": {
    "name": "ipython",
    "version": 3
   },
   "file_extension": ".py",
   "mimetype": "text/x-python",
   "name": "python",
   "nbconvert_exporter": "python",
   "pygments_lexer": "ipython3",
   "version": "3.10.16"
  }
 },
 "nbformat": 4,
 "nbformat_minor": 2
}
